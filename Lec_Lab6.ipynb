{
 "cells": [
  {
   "cell_type": "code",
   "execution_count": 3,
   "metadata": {},
   "outputs": [],
   "source": [
    "import json\n",
    "\n",
    "from pprint import pprint"
   ]
  },
  {
   "cell_type": "code",
   "execution_count": 4,
   "metadata": {},
   "outputs": [],
   "source": [
    "str_data = open('demo.json').read()"
   ]
  },
  {
   "cell_type": "code",
   "execution_count": 5,
   "metadata": {},
   "outputs": [
    {
     "name": "stdout",
     "output_type": "stream",
     "text": [
      "{\n",
      "   \"share\": {\n",
      "      \"comment_count\": 0,\n",
      "      \"share_count\": 7657\n",
      "   },\n",
      "   \"og_object\": {\n",
      "      \"id\": \"704684182917256\",\n",
      "      \"description\": \"Welcome to the James Madison University website\",\n",
      "      \"title\": \"JMU Homepage\",\n",
      "      \"type\": \"website\",\n",
      "      \"updated_time\": \"2018-02-10T03:45:42+0000\"\n",
      "   },\n",
      "   \"id\": \"http://www.jmu.edu\"\n",
      "}\n"
     ]
    }
   ],
   "source": [
    "print (str_data)"
   ]
  },
  {
   "cell_type": "code",
   "execution_count": 6,
   "metadata": {},
   "outputs": [
    {
     "data": {
      "text/plain": [
       "str"
      ]
     },
     "execution_count": 6,
     "metadata": {},
     "output_type": "execute_result"
    }
   ],
   "source": [
    "type (str_data)"
   ]
  },
  {
   "cell_type": "code",
   "execution_count": 7,
   "metadata": {},
   "outputs": [],
   "source": [
    "json_data = json.loads(str_data)"
   ]
  },
  {
   "cell_type": "code",
   "execution_count": 8,
   "metadata": {},
   "outputs": [
    {
     "data": {
      "text/plain": [
       "dict"
      ]
     },
     "execution_count": 8,
     "metadata": {},
     "output_type": "execute_result"
    }
   ],
   "source": [
    "type(json_data)"
   ]
  },
  {
   "cell_type": "code",
   "execution_count": 9,
   "metadata": {},
   "outputs": [
    {
     "name": "stdout",
     "output_type": "stream",
     "text": [
      "{'share': {'comment_count': 0, 'share_count': 7657}, 'og_object': {'id': '704684182917256', 'description': 'Welcome to the James Madison University website', 'title': 'JMU Homepage', 'type': 'website', 'updated_time': '2018-02-10T03:45:42+0000'}, 'id': 'http://www.jmu.edu'}\n"
     ]
    }
   ],
   "source": [
    "print(json_data)"
   ]
  },
  {
   "cell_type": "code",
   "execution_count": 10,
   "metadata": {},
   "outputs": [
    {
     "name": "stdout",
     "output_type": "stream",
     "text": [
      "{'id': 'http://www.jmu.edu',\n",
      " 'og_object': {'description': 'Welcome to the James Madison University website',\n",
      "               'id': '704684182917256',\n",
      "               'title': 'JMU Homepage',\n",
      "               'type': 'website',\n",
      "               'updated_time': '2018-02-10T03:45:42+0000'},\n",
      " 'share': {'comment_count': 0, 'share_count': 7657}}\n"
     ]
    }
   ],
   "source": [
    "pprint(json_data)"
   ]
  },
  {
   "cell_type": "code",
   "execution_count": 11,
   "metadata": {},
   "outputs": [
    {
     "name": "stdout",
     "output_type": "stream",
     "text": [
      "http://www.jmu.edu\n"
     ]
    }
   ],
   "source": [
    "print(json_data['id'])"
   ]
  },
  {
   "cell_type": "code",
   "execution_count": 12,
   "metadata": {},
   "outputs": [
    {
     "name": "stdout",
     "output_type": "stream",
     "text": [
      "7657\n"
     ]
    }
   ],
   "source": [
    "print(json_data['share']['share_count'])"
   ]
  },
  {
   "cell_type": "code",
   "execution_count": 13,
   "metadata": {},
   "outputs": [],
   "source": [
    "url_str = ''\n",
    "\n"
   ]
  },
  {
   "cell_type": "code",
   "execution_count": 14,
   "metadata": {},
   "outputs": [
    {
     "ename": "ValueError",
     "evalue": "unknown url type: ''",
     "output_type": "error",
     "traceback": [
      "\u001b[0;31m---------------------------------------------------------------------------\u001b[0m",
      "\u001b[0;31mValueError\u001b[0m                                Traceback (most recent call last)",
      "\u001b[0;32m<ipython-input-14-87a2ebac302e>\u001b[0m in \u001b[0;36m<module>\u001b[0;34m()\u001b[0m\n\u001b[1;32m      1\u001b[0m \u001b[0;32mimport\u001b[0m \u001b[0murllib\u001b[0m\u001b[0;34m.\u001b[0m\u001b[0mrequest\u001b[0m\u001b[0;34m\u001b[0m\u001b[0m\n\u001b[1;32m      2\u001b[0m \u001b[0;34m\u001b[0m\u001b[0m\n\u001b[0;32m----> 3\u001b[0;31m \u001b[0mresponse\u001b[0m \u001b[0;34m=\u001b[0m \u001b[0murllib\u001b[0m\u001b[0;34m.\u001b[0m\u001b[0mrequest\u001b[0m\u001b[0;34m.\u001b[0m\u001b[0murlopen\u001b[0m\u001b[0;34m(\u001b[0m\u001b[0murl_str\u001b[0m\u001b[0;34m)\u001b[0m\u001b[0;34m\u001b[0m\u001b[0m\n\u001b[0m",
      "\u001b[0;32m~/anaconda3/envs/python3/lib/python3.6/urllib/request.py\u001b[0m in \u001b[0;36murlopen\u001b[0;34m(url, data, timeout, cafile, capath, cadefault, context)\u001b[0m\n\u001b[1;32m    221\u001b[0m     \u001b[0;32melse\u001b[0m\u001b[0;34m:\u001b[0m\u001b[0;34m\u001b[0m\u001b[0m\n\u001b[1;32m    222\u001b[0m         \u001b[0mopener\u001b[0m \u001b[0;34m=\u001b[0m \u001b[0m_opener\u001b[0m\u001b[0;34m\u001b[0m\u001b[0m\n\u001b[0;32m--> 223\u001b[0;31m     \u001b[0;32mreturn\u001b[0m \u001b[0mopener\u001b[0m\u001b[0;34m.\u001b[0m\u001b[0mopen\u001b[0m\u001b[0;34m(\u001b[0m\u001b[0murl\u001b[0m\u001b[0;34m,\u001b[0m \u001b[0mdata\u001b[0m\u001b[0;34m,\u001b[0m \u001b[0mtimeout\u001b[0m\u001b[0;34m)\u001b[0m\u001b[0;34m\u001b[0m\u001b[0m\n\u001b[0m\u001b[1;32m    224\u001b[0m \u001b[0;34m\u001b[0m\u001b[0m\n\u001b[1;32m    225\u001b[0m \u001b[0;32mdef\u001b[0m \u001b[0minstall_opener\u001b[0m\u001b[0;34m(\u001b[0m\u001b[0mopener\u001b[0m\u001b[0;34m)\u001b[0m\u001b[0;34m:\u001b[0m\u001b[0;34m\u001b[0m\u001b[0m\n",
      "\u001b[0;32m~/anaconda3/envs/python3/lib/python3.6/urllib/request.py\u001b[0m in \u001b[0;36mopen\u001b[0;34m(self, fullurl, data, timeout)\u001b[0m\n\u001b[1;32m    509\u001b[0m         \u001b[0;31m# accept a URL or a Request object\u001b[0m\u001b[0;34m\u001b[0m\u001b[0;34m\u001b[0m\u001b[0m\n\u001b[1;32m    510\u001b[0m         \u001b[0;32mif\u001b[0m \u001b[0misinstance\u001b[0m\u001b[0;34m(\u001b[0m\u001b[0mfullurl\u001b[0m\u001b[0;34m,\u001b[0m \u001b[0mstr\u001b[0m\u001b[0;34m)\u001b[0m\u001b[0;34m:\u001b[0m\u001b[0;34m\u001b[0m\u001b[0m\n\u001b[0;32m--> 511\u001b[0;31m             \u001b[0mreq\u001b[0m \u001b[0;34m=\u001b[0m \u001b[0mRequest\u001b[0m\u001b[0;34m(\u001b[0m\u001b[0mfullurl\u001b[0m\u001b[0;34m,\u001b[0m \u001b[0mdata\u001b[0m\u001b[0;34m)\u001b[0m\u001b[0;34m\u001b[0m\u001b[0m\n\u001b[0m\u001b[1;32m    512\u001b[0m         \u001b[0;32melse\u001b[0m\u001b[0;34m:\u001b[0m\u001b[0;34m\u001b[0m\u001b[0m\n\u001b[1;32m    513\u001b[0m             \u001b[0mreq\u001b[0m \u001b[0;34m=\u001b[0m \u001b[0mfullurl\u001b[0m\u001b[0;34m\u001b[0m\u001b[0m\n",
      "\u001b[0;32m~/anaconda3/envs/python3/lib/python3.6/urllib/request.py\u001b[0m in \u001b[0;36m__init__\u001b[0;34m(self, url, data, headers, origin_req_host, unverifiable, method)\u001b[0m\n\u001b[1;32m    327\u001b[0m                  \u001b[0morigin_req_host\u001b[0m\u001b[0;34m=\u001b[0m\u001b[0;32mNone\u001b[0m\u001b[0;34m,\u001b[0m \u001b[0munverifiable\u001b[0m\u001b[0;34m=\u001b[0m\u001b[0;32mFalse\u001b[0m\u001b[0;34m,\u001b[0m\u001b[0;34m\u001b[0m\u001b[0m\n\u001b[1;32m    328\u001b[0m                  method=None):\n\u001b[0;32m--> 329\u001b[0;31m         \u001b[0mself\u001b[0m\u001b[0;34m.\u001b[0m\u001b[0mfull_url\u001b[0m \u001b[0;34m=\u001b[0m \u001b[0murl\u001b[0m\u001b[0;34m\u001b[0m\u001b[0m\n\u001b[0m\u001b[1;32m    330\u001b[0m         \u001b[0mself\u001b[0m\u001b[0;34m.\u001b[0m\u001b[0mheaders\u001b[0m \u001b[0;34m=\u001b[0m \u001b[0;34m{\u001b[0m\u001b[0;34m}\u001b[0m\u001b[0;34m\u001b[0m\u001b[0m\n\u001b[1;32m    331\u001b[0m         \u001b[0mself\u001b[0m\u001b[0;34m.\u001b[0m\u001b[0munredirected_hdrs\u001b[0m \u001b[0;34m=\u001b[0m \u001b[0;34m{\u001b[0m\u001b[0;34m}\u001b[0m\u001b[0;34m\u001b[0m\u001b[0m\n",
      "\u001b[0;32m~/anaconda3/envs/python3/lib/python3.6/urllib/request.py\u001b[0m in \u001b[0;36mfull_url\u001b[0;34m(self, url)\u001b[0m\n\u001b[1;32m    353\u001b[0m         \u001b[0mself\u001b[0m\u001b[0;34m.\u001b[0m\u001b[0m_full_url\u001b[0m \u001b[0;34m=\u001b[0m \u001b[0munwrap\u001b[0m\u001b[0;34m(\u001b[0m\u001b[0murl\u001b[0m\u001b[0;34m)\u001b[0m\u001b[0;34m\u001b[0m\u001b[0m\n\u001b[1;32m    354\u001b[0m         \u001b[0mself\u001b[0m\u001b[0;34m.\u001b[0m\u001b[0m_full_url\u001b[0m\u001b[0;34m,\u001b[0m \u001b[0mself\u001b[0m\u001b[0;34m.\u001b[0m\u001b[0mfragment\u001b[0m \u001b[0;34m=\u001b[0m \u001b[0msplittag\u001b[0m\u001b[0;34m(\u001b[0m\u001b[0mself\u001b[0m\u001b[0;34m.\u001b[0m\u001b[0m_full_url\u001b[0m\u001b[0;34m)\u001b[0m\u001b[0;34m\u001b[0m\u001b[0m\n\u001b[0;32m--> 355\u001b[0;31m         \u001b[0mself\u001b[0m\u001b[0;34m.\u001b[0m\u001b[0m_parse\u001b[0m\u001b[0;34m(\u001b[0m\u001b[0;34m)\u001b[0m\u001b[0;34m\u001b[0m\u001b[0m\n\u001b[0m\u001b[1;32m    356\u001b[0m \u001b[0;34m\u001b[0m\u001b[0m\n\u001b[1;32m    357\u001b[0m     \u001b[0;34m@\u001b[0m\u001b[0mfull_url\u001b[0m\u001b[0;34m.\u001b[0m\u001b[0mdeleter\u001b[0m\u001b[0;34m\u001b[0m\u001b[0m\n",
      "\u001b[0;32m~/anaconda3/envs/python3/lib/python3.6/urllib/request.py\u001b[0m in \u001b[0;36m_parse\u001b[0;34m(self)\u001b[0m\n\u001b[1;32m    382\u001b[0m         \u001b[0mself\u001b[0m\u001b[0;34m.\u001b[0m\u001b[0mtype\u001b[0m\u001b[0;34m,\u001b[0m \u001b[0mrest\u001b[0m \u001b[0;34m=\u001b[0m \u001b[0msplittype\u001b[0m\u001b[0;34m(\u001b[0m\u001b[0mself\u001b[0m\u001b[0;34m.\u001b[0m\u001b[0m_full_url\u001b[0m\u001b[0;34m)\u001b[0m\u001b[0;34m\u001b[0m\u001b[0m\n\u001b[1;32m    383\u001b[0m         \u001b[0;32mif\u001b[0m \u001b[0mself\u001b[0m\u001b[0;34m.\u001b[0m\u001b[0mtype\u001b[0m \u001b[0;32mis\u001b[0m \u001b[0;32mNone\u001b[0m\u001b[0;34m:\u001b[0m\u001b[0;34m\u001b[0m\u001b[0m\n\u001b[0;32m--> 384\u001b[0;31m             \u001b[0;32mraise\u001b[0m \u001b[0mValueError\u001b[0m\u001b[0;34m(\u001b[0m\u001b[0;34m\"unknown url type: %r\"\u001b[0m \u001b[0;34m%\u001b[0m \u001b[0mself\u001b[0m\u001b[0;34m.\u001b[0m\u001b[0mfull_url\u001b[0m\u001b[0;34m)\u001b[0m\u001b[0;34m\u001b[0m\u001b[0m\n\u001b[0m\u001b[1;32m    385\u001b[0m         \u001b[0mself\u001b[0m\u001b[0;34m.\u001b[0m\u001b[0mhost\u001b[0m\u001b[0;34m,\u001b[0m \u001b[0mself\u001b[0m\u001b[0;34m.\u001b[0m\u001b[0mselector\u001b[0m \u001b[0;34m=\u001b[0m \u001b[0msplithost\u001b[0m\u001b[0;34m(\u001b[0m\u001b[0mrest\u001b[0m\u001b[0;34m)\u001b[0m\u001b[0;34m\u001b[0m\u001b[0m\n\u001b[1;32m    386\u001b[0m         \u001b[0;32mif\u001b[0m \u001b[0mself\u001b[0m\u001b[0;34m.\u001b[0m\u001b[0mhost\u001b[0m\u001b[0;34m:\u001b[0m\u001b[0;34m\u001b[0m\u001b[0m\n",
      "\u001b[0;31mValueError\u001b[0m: unknown url type: ''"
     ]
    }
   ],
   "source": [
    "import urllib.request\n",
    "\n",
    "response = urllib.request.urlopen(url_str)"
   ]
  },
  {
   "cell_type": "code",
   "execution_count": 15,
   "metadata": {},
   "outputs": [
    {
     "name": "stdout",
     "output_type": "stream",
     "text": [
      "\n"
     ]
    }
   ],
   "source": [
    "web_content = response.read() .decode('utf-8')\n",
    "print(web_content)"
   ]
  },
  {
   "cell_type": "markdown",
   "metadata": {},
   "source": [
    "# 2.1"
   ]
  },
  {
   "cell_type": "code",
   "execution_count": 16,
   "metadata": {},
   "outputs": [
    {
     "name": "stdout",
     "output_type": "stream",
     "text": [
      "['B01001_001E', 'NAME', 'state', 'county']\n",
      "443630 Prince William County, Virginia 51 153\n",
      "34417 Pulaski County, Virginia 51 155\n",
      "7416 Rappahannock County, Virginia 51 157\n",
      "8868 Richmond County, Virginia 51 159\n",
      "93655 Roanoke County, Virginia 51 161\n",
      "22450 Rockbridge County, Virginia 51 163\n",
      "78427 Rockingham County, Virginia 51 165\n",
      "27973 Russell County, Virginia 51 167\n",
      "22378 Scott County, Virginia 51 169\n",
      "42857 Shenandoah County, Virginia 51 171\n",
      "31513 Smyth County, Virginia 51 173\n",
      "18291 Southampton County, Virginia 51 175\n",
      "129181 Spotsylvania County, Virginia 51 177\n",
      "139548 Stafford County, Virginia 51 179\n",
      "6731 Surry County, Virginia 51 181\n",
      "11733 Sussex County, Virginia 51 183\n",
      "43367 Tazewell County, Virginia 51 185\n",
      "38807 Warren County, Virginia 51 187\n",
      "54562 Washington County, Virginia 51 191\n",
      "17528 Westmoreland County, Virginia 51 193\n",
      "40074 Wise County, Virginia 51 195\n",
      "29171 Wythe County, Virginia 51 197\n",
      "66919 York County, Virginia 51 199\n",
      "151473 Alexandria city, Virginia 51 510\n",
      "17340 Bristol city, Virginia 51 520\n",
      "6610 Buena Vista city, Virginia 51 530\n",
      "45538 Charlottesville city, Virginia 51 540\n",
      "233194 Chesapeake city, Virginia 51 550\n",
      "17554 Colonial Heights city, Virginia 51 570\n",
      "5650 Covington city, Virginia 51 580\n",
      "42360 Danville city, Virginia 51 590\n",
      "5565 Emporia city, Virginia 51 595\n",
      "23620 Fairfax city, Virginia 51 600\n",
      "13597 Falls Church city, Virginia 51 610\n",
      "8413 Franklin city, Virginia 51 620\n",
      "27853 Fredericksburg city, Virginia 51 630\n",
      "6858 Galax city, Virginia 51 640\n",
      "136789 Hampton city, Virginia 51 650\n",
      "51979 Harrisonburg city, Virginia 51 660\n",
      "22332 Hopewell city, Virginia 51 670\n",
      "7036 Lexington city, Virginia 51 678\n",
      "78755 Lynchburg city, Virginia 51 680\n",
      "41149 Manassas city, Virginia 51 683\n",
      "15827 Manassas Park city, Virginia 51 685\n",
      "13551 Martinsville city, Virginia 51 690\n",
      "181606 Newport News city, Virginia 51 700\n",
      "245724 Norfolk city, Virginia 51 710\n",
      "3978 Norton city, Virginia 51 720\n",
      "31997 Petersburg city, Virginia 51 730\n",
      "12068 Poquoson city, Virginia 51 735\n",
      "96071 Portsmouth city, Virginia 51 740\n",
      "17186 Radford city, Virginia 51 750\n",
      "216773 Richmond city, Virginia 51 760\n",
      "99329 Roanoke city, Virginia 51 770\n",
      "25290 Salem city, Virginia 51 775\n",
      "24234 Staunton city, Virginia 51 790\n",
      "87061 Suffolk city, Virginia 51 800\n",
      "449733 Virginia Beach city, Virginia 51 810\n",
      "21366 Waynesboro city, Virginia 51 820\n",
      "14988 Williamsburg city, Virginia 51 830\n",
      "27349 Winchester city, Virginia 51 840\n",
      "33060 Accomack County, Virginia 51 001\n",
      "104287 Albemarle County, Virginia 51 003\n",
      "15919 Alleghany County, Virginia 51 005\n",
      "12793 Amelia County, Virginia 51 007\n",
      "31999 Amherst County, Virginia 51 009\n",
      "15314 Appomattox County, Virginia 51 011\n",
      "226092 Arlington County, Virginia 51 013\n",
      "74330 Augusta County, Virginia 51 015\n",
      "4558 Bath County, Virginia 51 017\n",
      "76933 Bedford County, Virginia 51 019\n",
      "6612 Bland County, Virginia 51 021\n",
      "33192 Botetourt County, Virginia 51 023\n",
      "16573 Brunswick County, Virginia 51 025\n",
      "23158 Buchanan County, Virginia 51 027\n",
      "17030 Buckingham County, Virginia 51 029\n",
      "55061 Campbell County, Virginia 51 031\n",
      "29640 Caroline County, Virginia 51 033\n",
      "29733 Carroll County, Virginia 51 035\n",
      "7086 Charles City County, Virginia 51 036\n",
      "12232 Charlotte County, Virginia 51 037\n",
      "331839 Chesterfield County, Virginia 51 041\n",
      "14307 Clarke County, Virginia 51 043\n",
      "5195 Craig County, Virginia 51 045\n",
      "48952 Culpeper County, Virginia 51 047\n",
      "9769 Cumberland County, Virginia 51 049\n",
      "15304 Dickenson County, Virginia 51 051\n",
      "28155 Dinwiddie County, Virginia 51 053\n",
      "11130 Essex County, Virginia 51 057\n",
      "1132887 Fairfax County, Virginia 51 059\n",
      "68025 Fauquier County, Virginia 51 061\n",
      "15587 Floyd County, Virginia 51 063\n",
      "26046 Fluvanna County, Virginia 51 065\n",
      "56230 Franklin County, Virginia 51 067\n",
      "82321 Frederick County, Virginia 51 069\n",
      "16871 Giles County, Virginia 51 071\n",
      "37021 Gloucester County, Virginia 51 073\n",
      "21979 Goochland County, Virginia 51 075\n",
      "15180 Grayson County, Virginia 51 077\n",
      "19085 Greene County, Virginia 51 079\n",
      "11698 Greensville County, Virginia 51 081\n",
      "35305 Halifax County, Virginia 51 083\n",
      "102199 Hanover County, Virginia 51 085\n",
      "321921 Henrico County, Virginia 51 087\n",
      "52209 Henry County, Virginia 51 089\n",
      "2230 Highland County, Virginia 51 091\n",
      "36027 Isle of Wight County, Virginia 51 093\n",
      "71900 James City County, Virginia 51 095\n",
      "7140 King and Queen County, Virginia 51 097\n",
      "25260 King George County, Virginia 51 099\n",
      "16156 King William County, Virginia 51 101\n",
      "11055 Lancaster County, Virginia 51 103\n",
      "24911 Lee County, Virginia 51 105\n",
      "362435 Loudoun County, Virginia 51 107\n",
      "34350 Louisa County, Virginia 51 109\n",
      "12450 Lunenburg County, Virginia 51 111\n",
      "13122 Madison County, Virginia 51 113\n",
      "8848 Mathews County, Virginia 51 115\n",
      "31209 Mecklenburg County, Virginia 51 117\n",
      "10728 Middlesex County, Virginia 51 119\n",
      "97227 Montgomery County, Virginia 51 121\n",
      "14831 Nelson County, Virginia 51 125\n",
      "20051 New Kent County, Virginia 51 127\n",
      "12118 Northampton County, Virginia 51 131\n",
      "12272 Northumberland County, Virginia 51 133\n",
      "15641 Nottoway County, Virginia 51 135\n",
      "34873 Orange County, Virginia 51 137\n",
      "23759 Page County, Virginia 51 139\n",
      "18180 Patrick County, Virginia 51 141\n",
      "62392 Pittsylvania County, Virginia 51 143\n",
      "28286 Powhatan County, Virginia 51 145\n",
      "23077 Prince Edward County, Virginia 51 147\n",
      "37664 Prince George County, Virginia 51 149\n"
     ]
    }
   ],
   "source": [
    "from urllib import request\n",
    "import json\n",
    "from pprint import pprint\n",
    "\n",
    "\n",
    "census_api_key = 'a750d0e5c1a2a56fa300f5492644568e8e0f416c' #get your key from https://api.census.gov/data/key_signup.html\n",
    "\n",
    "\n",
    "url_str = 'https://api.census.gov/data/2016/acs/acs5?get=B01001_001E,NAME&for=county:*&in=state:51&key='+census_api_key # create the url of your census data\n",
    "\n",
    "response = request.urlopen(url_str) # read the response into computer\n",
    "\n",
    "html_str = response.read().decode(\"utf-8\") # convert the response into string\n",
    "if (html_str):\n",
    "    json_data = json.loads(html_str) # convert the string into json\n",
    "    print (json_data[0])\n",
    "    for v1,name,state,county in json_data[1:]:\n",
    "        print (v1,name,state,county )"
   ]
  },
  {
   "cell_type": "markdown",
   "metadata": {},
   "source": [
    "# 2.2\n"
   ]
  },
  {
   "cell_type": "code",
   "execution_count": 17,
   "metadata": {},
   "outputs": [
    {
     "name": "stdout",
     "output_type": "stream",
     "text": [
      "['B01001_001E', 'B01001_002E', 'NAME', 'state', 'county']\n",
      "443630 220996 Prince William County, Virginia 51 153\n",
      "34417 17147 Pulaski County, Virginia 51 155\n",
      "7416 3643 Rappahannock County, Virginia 51 157\n",
      "8868 4960 Richmond County, Virginia 51 159\n",
      "93655 44946 Roanoke County, Virginia 51 161\n",
      "22450 11150 Rockbridge County, Virginia 51 163\n",
      "78427 38501 Rockingham County, Virginia 51 165\n",
      "27973 13693 Russell County, Virginia 51 167\n",
      "22378 11259 Scott County, Virginia 51 169\n",
      "42857 20972 Shenandoah County, Virginia 51 171\n",
      "31513 15623 Smyth County, Virginia 51 173\n",
      "18291 9555 Southampton County, Virginia 51 175\n",
      "129181 63429 Spotsylvania County, Virginia 51 177\n",
      "139548 70245 Stafford County, Virginia 51 179\n",
      "6731 3317 Surry County, Virginia 51 181\n",
      "11733 7715 Sussex County, Virginia 51 183\n",
      "43367 21489 Tazewell County, Virginia 51 185\n",
      "38807 19357 Warren County, Virginia 51 187\n",
      "54562 27008 Washington County, Virginia 51 191\n",
      "17528 8640 Westmoreland County, Virginia 51 193\n",
      "40074 20706 Wise County, Virginia 51 195\n",
      "29171 14234 Wythe County, Virginia 51 197\n",
      "66919 32825 York County, Virginia 51 199\n",
      "151473 73054 Alexandria city, Virginia 51 510\n",
      "17340 8084 Bristol city, Virginia 51 520\n",
      "6610 2916 Buena Vista city, Virginia 51 530\n",
      "45538 22057 Charlottesville city, Virginia 51 540\n",
      "233194 113888 Chesapeake city, Virginia 51 550\n",
      "17554 8068 Colonial Heights city, Virginia 51 570\n",
      "5650 2903 Covington city, Virginia 51 580\n",
      "42360 19379 Danville city, Virginia 51 590\n",
      "5565 2564 Emporia city, Virginia 51 595\n",
      "23620 11626 Fairfax city, Virginia 51 600\n",
      "13597 6577 Falls Church city, Virginia 51 610\n",
      "8413 3699 Franklin city, Virginia 51 620\n",
      "27853 13066 Fredericksburg city, Virginia 51 630\n",
      "6858 3290 Galax city, Virginia 51 640\n",
      "136789 65983 Hampton city, Virginia 51 650\n",
      "51979 24857 Harrisonburg city, Virginia 51 660\n",
      "22332 10383 Hopewell city, Virginia 51 670\n",
      "7036 3979 Lexington city, Virginia 51 678\n",
      "78755 36987 Lynchburg city, Virginia 51 680\n",
      "41149 20455 Manassas city, Virginia 51 683\n",
      "15827 8387 Manassas Park city, Virginia 51 685\n",
      "13551 6225 Martinsville city, Virginia 51 690\n",
      "181606 88071 Newport News city, Virginia 51 700\n",
      "245724 128011 Norfolk city, Virginia 51 710\n",
      "3978 1763 Norton city, Virginia 51 720\n",
      "31997 14709 Petersburg city, Virginia 51 730\n",
      "12068 5912 Poquoson city, Virginia 51 735\n",
      "96071 46306 Portsmouth city, Virginia 51 740\n",
      "17186 8544 Radford city, Virginia 51 750\n",
      "216773 102936 Richmond city, Virginia 51 760\n",
      "99329 47524 Roanoke city, Virginia 51 770\n",
      "25290 11904 Salem city, Virginia 51 775\n",
      "24234 10937 Staunton city, Virginia 51 790\n",
      "87061 42144 Suffolk city, Virginia 51 800\n",
      "449733 221023 Virginia Beach city, Virginia 51 810\n",
      "21366 10205 Waynesboro city, Virginia 51 820\n",
      "14988 6532 Williamsburg city, Virginia 51 830\n",
      "27349 13355 Winchester city, Virginia 51 840\n",
      "33060 16125 Accomack County, Virginia 51 001\n",
      "104287 49946 Albemarle County, Virginia 51 003\n",
      "15919 7788 Alleghany County, Virginia 51 005\n",
      "12793 6642 Amelia County, Virginia 51 007\n",
      "31999 15346 Amherst County, Virginia 51 009\n",
      "15314 7424 Appomattox County, Virginia 51 011\n",
      "226092 112644 Arlington County, Virginia 51 013\n",
      "74330 37572 Augusta County, Virginia 51 015\n",
      "4558 2465 Bath County, Virginia 51 017\n",
      "76933 37888 Bedford County, Virginia 51 019\n",
      "6612 3733 Bland County, Virginia 51 021\n",
      "33192 16425 Botetourt County, Virginia 51 023\n",
      "16573 8668 Brunswick County, Virginia 51 025\n",
      "23158 11673 Buchanan County, Virginia 51 027\n",
      "17030 9453 Buckingham County, Virginia 51 029\n",
      "55061 26745 Campbell County, Virginia 51 031\n",
      "29640 14677 Caroline County, Virginia 51 033\n",
      "29733 14897 Carroll County, Virginia 51 035\n",
      "7086 3456 Charles City County, Virginia 51 036\n",
      "12232 6121 Charlotte County, Virginia 51 037\n",
      "331839 159789 Chesterfield County, Virginia 51 041\n",
      "14307 7087 Clarke County, Virginia 51 043\n",
      "5195 2509 Craig County, Virginia 51 045\n",
      "48952 24612 Culpeper County, Virginia 51 047\n",
      "9769 4779 Cumberland County, Virginia 51 049\n",
      "15304 7814 Dickenson County, Virginia 51 051\n",
      "28155 13903 Dinwiddie County, Virginia 51 053\n",
      "11130 5137 Essex County, Virginia 51 057\n",
      "1132887 560803 Fairfax County, Virginia 51 059\n",
      "68025 33659 Fauquier County, Virginia 51 061\n",
      "15587 7682 Floyd County, Virginia 51 063\n",
      "26046 11826 Fluvanna County, Virginia 51 065\n",
      "56230 27592 Franklin County, Virginia 51 067\n",
      "82321 40925 Frederick County, Virginia 51 069\n",
      "16871 8233 Giles County, Virginia 51 071\n",
      "37021 18267 Gloucester County, Virginia 51 073\n",
      "21979 10791 Goochland County, Virginia 51 075\n",
      "15180 7463 Grayson County, Virginia 51 077\n",
      "19085 9321 Greene County, Virginia 51 079\n",
      "11698 7254 Greensville County, Virginia 51 081\n",
      "35305 16844 Halifax County, Virginia 51 083\n",
      "102199 50104 Hanover County, Virginia 51 085\n",
      "321921 152084 Henrico County, Virginia 51 087\n",
      "52209 25094 Henry County, Virginia 51 089\n",
      "2230 994 Highland County, Virginia 51 091\n",
      "36027 17600 Isle of Wight County, Virginia 51 093\n",
      "71900 34876 James City County, Virginia 51 095\n",
      "7140 3673 King and Queen County, Virginia 51 097\n",
      "25260 12588 King George County, Virginia 51 099\n",
      "16156 8003 King William County, Virginia 51 101\n",
      "11055 5128 Lancaster County, Virginia 51 103\n",
      "24911 13083 Lee County, Virginia 51 105\n",
      "362435 179315 Loudoun County, Virginia 51 107\n",
      "34350 16874 Louisa County, Virginia 51 109\n",
      "12450 6498 Lunenburg County, Virginia 51 111\n",
      "13122 6410 Madison County, Virginia 51 113\n",
      "8848 4144 Mathews County, Virginia 51 115\n",
      "31209 15133 Mecklenburg County, Virginia 51 117\n",
      "10728 5295 Middlesex County, Virginia 51 119\n",
      "97227 50364 Montgomery County, Virginia 51 121\n",
      "14831 7171 Nelson County, Virginia 51 125\n",
      "20051 10215 New Kent County, Virginia 51 127\n",
      "12118 5772 Northampton County, Virginia 51 131\n",
      "12272 5966 Northumberland County, Virginia 51 133\n",
      "15641 8483 Nottoway County, Virginia 51 135\n",
      "34873 17110 Orange County, Virginia 51 137\n",
      "23759 11636 Page County, Virginia 51 139\n",
      "18180 8967 Patrick County, Virginia 51 141\n",
      "62392 30667 Pittsylvania County, Virginia 51 143\n",
      "28286 15198 Powhatan County, Virginia 51 145\n",
      "23077 11532 Prince Edward County, Virginia 51 147\n",
      "37664 20615 Prince George County, Virginia 51 149\n"
     ]
    }
   ],
   "source": [
    "from urllib import request\n",
    "import json\n",
    "from pprint import pprint\n",
    "\n",
    "\n",
    "census_api_key = 'a750d0e5c1a2a56fa300f5492644568e8e0f416c' #get your key from https://api.census.gov/data/key_signup.html\n",
    "\n",
    "\n",
    "url_str = 'https://api.census.gov/data/2016/acs/acs5?get=B01001_001E,B01001_002E,NAME&for=county:*&in=state:51&key='+census_api_key # create the url of your census data\n",
    "\n",
    "response = request.urlopen(url_str) # read the response into computer\n",
    "\n",
    "html_str = response.read().decode(\"utf-8\") # convert the response into string\n",
    "if (html_str):\n",
    "    json_data = json.loads(html_str) # convert the string into json\n",
    "    print (json_data[0])\n",
    "    for v1,v2,name,state,county in json_data[1:]:\n",
    "        print (v1,v2,name,state,county )"
   ]
  },
  {
   "cell_type": "markdown",
   "metadata": {},
   "source": [
    "# q1 max pop"
   ]
  },
  {
   "cell_type": "code",
   "execution_count": 20,
   "metadata": {},
   "outputs": [
    {
     "name": "stdout",
     "output_type": "stream",
     "text": [
      "['B01001_001E', 'B01001_002E', 'NAME', 'state', 'county']\n",
      "1132887\n",
      "Fairfax County, Virginia\n"
     ]
    }
   ],
   "source": [
    "from urllib import request\n",
    "import json\n",
    "from pprint import pprint\n",
    "\n",
    "\n",
    "census_api_key = 'a750d0e5c1a2a56fa300f5492644568e8e0f416c' #get your key from https://api.census.gov/data/key_signup.html\n",
    "\n",
    "\n",
    "url_str = 'https://api.census.gov/data/2016/acs/acs5?get=B01001_001E,B01001_002E,NAME&for=county:*&in=state:51&key='+census_api_key # create the url of your census data\n",
    "\n",
    "response = request.urlopen(url_str) # read the response into computer\n",
    "\n",
    "html_str = response.read().decode(\"utf-8\") # convert the response into string\n",
    "\n",
    "pop_max=0\n",
    "male_max=0\n",
    "county_max=('')\n",
    "\n",
    "if (html_str):\n",
    "    json_data = json.loads(html_str) # convert the string into json\n",
    "    print (json_data[0])\n",
    "    for v1,v2,name,state,county in json_data[1:]:\n",
    "        if pop_max< int(v1):\n",
    "            pop_max=int(v1)\n",
    "            county_max = name\n",
    "            \n",
    "    print(pop_max)\n",
    "    print(county_max)"
   ]
  },
  {
   "cell_type": "markdown",
   "metadata": {},
   "source": [
    "# Q2 Max Male"
   ]
  },
  {
   "cell_type": "code",
   "execution_count": 22,
   "metadata": {},
   "outputs": [
    {
     "name": "stdout",
     "output_type": "stream",
     "text": [
      "['B01001_001E', 'B01001_002E', 'NAME', 'state', 'county']\n",
      "560803\n",
      "Fairfax County, Virginia\n"
     ]
    }
   ],
   "source": [
    "from urllib import request\n",
    "import json\n",
    "from pprint import pprint\n",
    "\n",
    "\n",
    "census_api_key = 'a750d0e5c1a2a56fa300f5492644568e8e0f416c' #get your key from https://api.census.gov/data/key_signup.html\n",
    "\n",
    "\n",
    "url_str = 'https://api.census.gov/data/2016/acs/acs5?get=B01001_001E,B01001_002E,NAME&for=county:*&in=state:51&key='+census_api_key # create the url of your census data\n",
    "\n",
    "response = request.urlopen(url_str) # read the response into computer\n",
    "\n",
    "html_str = response.read().decode(\"utf-8\") # convert the response into string\n",
    "\n",
    "pop_max=0\n",
    "male_max=0\n",
    "county_max=('')\n",
    "\n",
    "if (html_str):\n",
    "    json_data = json.loads(html_str) # convert the string into json\n",
    "    print (json_data[0])\n",
    "    for v1,v2,name,state,county in json_data[1:]:\n",
    "        if male_max< int(v2):\n",
    "            male_max=int(v2)\n",
    "            county_max = name\n",
    "            \n",
    "    print(male_max)\n",
    "    print(county_max)"
   ]
  },
  {
   "cell_type": "markdown",
   "metadata": {},
   "source": [
    "# Q3  Ratio"
   ]
  },
  {
   "cell_type": "code",
   "execution_count": 23,
   "metadata": {},
   "outputs": [
    {
     "name": "stdout",
     "output_type": "stream",
     "text": [
      "['B01001_001E', 'B01001_002E', 'NAME', 'state', 'county']\n",
      "0.6575470894059491\n",
      "Sussex County, Virginia\n"
     ]
    }
   ],
   "source": [
    "from urllib import request\n",
    "import json\n",
    "from pprint import pprint\n",
    "\n",
    "\n",
    "census_api_key = 'a750d0e5c1a2a56fa300f5492644568e8e0f416c' #get your key from https://api.census.gov/data/key_signup.html\n",
    "\n",
    "\n",
    "url_str = 'https://api.census.gov/data/2016/acs/acs5?get=B01001_001E,B01001_002E,NAME&for=county:*&in=state:51&key='+census_api_key # create the url of your census data\n",
    "\n",
    "response = request.urlopen(url_str) # read the response into computer\n",
    "\n",
    "html_str = response.read().decode(\"utf-8\") # convert the response into string\n",
    "\n",
    "pop_max=0\n",
    "male_max=0\n",
    "ratio_max = 0\n",
    "county_max=('')\n",
    "\n",
    "if (html_str):\n",
    "    json_data = json.loads(html_str) # convert the string into json\n",
    "    print (json_data[0])\n",
    "    for v1,v2,name,state,county in json_data[1:]:\n",
    "        if ratio_max< (int(v2)/int(v1)):\n",
    "            ratio_max=(int(v2)/int(v1))\n",
    "            county_max = name\n",
    "            \n",
    "    print(ratio_max)\n",
    "    print(county_max)"
   ]
  },
  {
   "cell_type": "code",
   "execution_count": null,
   "metadata": {},
   "outputs": [],
   "source": []
  }
 ],
 "metadata": {
  "kernelspec": {
   "display_name": "conda_python3",
   "language": "python",
   "name": "conda_python3"
  },
  "language_info": {
   "codemirror_mode": {
    "name": "ipython",
    "version": 3
   },
   "file_extension": ".py",
   "mimetype": "text/x-python",
   "name": "python",
   "nbconvert_exporter": "python",
   "pygments_lexer": "ipython3",
   "version": "3.6.5"
  }
 },
 "nbformat": 4,
 "nbformat_minor": 4
}
