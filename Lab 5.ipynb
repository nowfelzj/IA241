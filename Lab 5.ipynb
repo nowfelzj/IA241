{
 "cells": [
  {
   "cell_type": "markdown",
   "metadata": {},
   "source": [
    "# question 1"
   ]
  },
  {
   "cell_type": "code",
   "execution_count": 2,
   "metadata": {},
   "outputs": [],
   "source": [
    "import xlrd\n",
    "book = xlrd.open_workbook(\"Diamonds.xls\")\n"
   ]
  },
  {
   "cell_type": "code",
   "execution_count": 3,
   "metadata": {},
   "outputs": [],
   "source": [
    "price1=0\n",
    "weight1=0.0\n",
    "sheet=book.sheet_by_index(0)\n"
   ]
  },
  {
   "cell_type": "code",
   "execution_count": 4,
   "metadata": {},
   "outputs": [
    {
     "name": "stdout",
     "output_type": "stream",
     "text": [
      "1.1 16008\n"
     ]
    }
   ],
   "source": [
    "sheet=book.sheet_by_index(0)\n",
    "for row in range(sheet.nrows):\n",
    "        if row > 0:\n",
    "            weight2=float(sheet.cell_value(row, 1))\n",
    "            price2 = int(sheet.cell_value(row,5))\n",
    "        \n",
    "            if weight2 > weight1:\n",
    "                weight1=weight2\n",
    "            \n",
    "            if price2>price1:\n",
    "                price1=price2\n",
    "\n",
    "print (weight1, price1)\n",
    "    "
   ]
  },
  {
   "cell_type": "markdown",
   "metadata": {},
   "source": [
    "# question 2"
   ]
  },
  {
   "cell_type": "code",
   "execution_count": 5,
   "metadata": {},
   "outputs": [
    {
     "name": "stdout",
     "output_type": "stream",
     "text": [
      "5019.483766233766\n"
     ]
    }
   ],
   "source": [
    "total=0.0\n",
    "sheet=book.sheet_by_index(0)\n",
    "for row in range(sheet.nrows):\n",
    "    if row>0:\n",
    "        total+= float(sheet.cell_value(row,5))\n",
    "        \n",
    "total = total / 308\n",
    "print(total)"
   ]
  },
  {
   "cell_type": "markdown",
   "metadata": {},
   "source": [
    "# question 3"
   ]
  },
  {
   "cell_type": "code",
   "execution_count": 6,
   "metadata": {},
   "outputs": [],
   "source": [
    "import xlwt"
   ]
  },
  {
   "cell_type": "code",
   "execution_count": 7,
   "metadata": {},
   "outputs": [
    {
     "name": "stdout",
     "output_type": "stream",
     "text": [
      "Collecting xlutils\n",
      "\u001b[?25l  Downloading https://files.pythonhosted.org/packages/c7/55/e22ac73dbb316cabb5db28bef6c87044a95914f713a6e81b593f8a0d2f79/xlutils-2.0.0-py2.py3-none-any.whl (55kB)\n",
      "\u001b[K    100% |████████████████████████████████| 61kB 16.1MB/s ta 0:00:01\n",
      "\u001b[?25hRequirement already satisfied: xlrd>=0.7.2 in /home/ec2-user/anaconda3/envs/python3/lib/python3.6/site-packages (from xlutils) (1.1.0)\n",
      "Requirement already satisfied: xlwt>=0.7.4 in /home/ec2-user/anaconda3/envs/python3/lib/python3.6/site-packages (from xlutils) (1.3.0)\n",
      "Installing collected packages: xlutils\n",
      "Successfully installed xlutils-2.0.0\n",
      "\u001b[33mYou are using pip version 10.0.1, however version 20.0.2 is available.\n",
      "You should consider upgrading via the 'pip install --upgrade pip' command.\u001b[0m\n"
     ]
    }
   ],
   "source": [
    "!pip install xlutils"
   ]
  },
  {
   "cell_type": "code",
   "execution_count": 8,
   "metadata": {},
   "outputs": [],
   "source": [
    "import xlutils"
   ]
  },
  {
   "cell_type": "code",
   "execution_count": 9,
   "metadata": {},
   "outputs": [],
   "source": [
    "import xlrd\n",
    "from xlutils.copy import copy\n",
    "r_book=xlrd.open_workbook('Diamonds.xls')\n",
    "r_sheet= r_book.sheet_by_index(0)\n",
    "w_book = copy(r_book)\n",
    "w_sheet= w_book.get_sheet(0)\n",
    "w_sheet.write(0, 6, \"unit price\")\n",
    "unit_price=0\n",
    "\n",
    "for row in range (r_sheet.nrows):\n",
    "    if row > 0:\n",
    "        unit_price = r_sheet.cell_value(row, 5)/ r_sheet.cell_value(row,1)\n",
    "        w_sheet.write(row, 6, unit_price)\n",
    "w_book.save('Diamonds.xls')"
   ]
  },
  {
   "cell_type": "markdown",
   "metadata": {},
   "source": [
    "# Question 4\n"
   ]
  },
  {
   "cell_type": "code",
   "execution_count": 10,
   "metadata": {},
   "outputs": [
    {
     "name": "stdout",
     "output_type": "stream",
     "text": [
      "[1.0, 0.3, 'D', 'VS2', 'GIA', 1302.0, 4340.0]\n",
      "[2.0, 0.3, 'E', 'VS1', 'GIA', 1510.0, 5033.333333333334]\n",
      "[3.0, 0.3, 'G', 'VVS1', 'GIA', 1510.0, 5033.333333333334]\n",
      "[4.0, 0.3, 'G', 'VS1', 'GIA', 1260.0, 4200.0]\n",
      "[5.0, 0.31, 'D', 'VS1', 'GIA', 1641.0, 5293.548387096775]\n",
      "[6.0, 0.31, 'E', 'VS1', 'GIA', 1555.0, 5016.129032258064]\n",
      "[7.0, 0.31, 'F', 'VS1', 'GIA', 1427.0, 4603.225806451613]\n",
      "[8.0, 0.31, 'G', 'VVS2', 'GIA', 1427.0, 4603.225806451613]\n",
      "[9.0, 0.31, 'H', 'VS2', 'GIA', 1126.0, 3632.2580645161293]\n",
      "[10.0, 0.31, 'I', 'VS1', 'GIA', 1126.0, 3632.2580645161293]\n"
     ]
    }
   ],
   "source": [
    "import xlrd\n",
    "book= xlrd.open_workbook('Diamonds.xls')\n",
    "sheet = book.sheet_by_index(0)\n",
    "for row in range(1,11,1):\n",
    "    if row > 0:\n",
    "        print(sheet.row_values(row))\n",
    "    "
   ]
  }
 ],
 "metadata": {
  "kernelspec": {
   "display_name": "conda_python3",
   "language": "python",
   "name": "conda_python3"
  },
  "language_info": {
   "codemirror_mode": {
    "name": "ipython",
    "version": 3
   },
   "file_extension": ".py",
   "mimetype": "text/x-python",
   "name": "python",
   "nbconvert_exporter": "python",
   "pygments_lexer": "ipython3",
   "version": "3.6.5"
  }
 },
 "nbformat": 4,
 "nbformat_minor": 4
}
